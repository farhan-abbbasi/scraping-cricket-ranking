{
 "cells": [
  {
   "cell_type": "code",
   "execution_count": 1,
   "id": "abc56036",
   "metadata": {},
   "outputs": [],
   "source": [
    "import pandas as pd\n",
    "from bs4 import BeautifulSoup as bs\n",
    "import requests"
   ]
  },
  {
   "cell_type": "markdown",
   "id": "474806f2",
   "metadata": {},
   "source": [
    "### here we will get web data by using GET from requests "
   ]
  },
  {
   "cell_type": "code",
   "execution_count": 2,
   "id": "ec01bdc9",
   "metadata": {},
   "outputs": [
    {
     "data": {
      "text/plain": [
       "<Response [200]>"
      ]
     },
     "execution_count": 2,
     "metadata": {},
     "output_type": "execute_result"
    }
   ],
   "source": [
    "web=requests.get('http://www.espncricinfo.com/rankings/content/page/211271.html')\n",
    "web"
   ]
  },
  {
   "cell_type": "code",
   "execution_count": 3,
   "id": "d3255689",
   "metadata": {},
   "outputs": [
    {
     "data": {
      "text/plain": [
       "200"
      ]
     },
     "execution_count": 3,
     "metadata": {},
     "output_type": "execute_result"
    }
   ],
   "source": [
    "web.status_code"
   ]
  },
  {
   "cell_type": "code",
   "execution_count": 4,
   "id": "4727a1ad",
   "metadata": {},
   "outputs": [
    {
     "data": {
      "text/plain": [
       "{'Accept-Ranges': 'bytes', 'Content-Encoding': 'gzip', 'Content-Type': 'text/html; charset=UTF-8', 'EMEA-Info': 'web03 0.048', 'Server': 'Apache', 'X-Varnish': '78398484', 'X-Varnish-Cache': 'MISS', 'Content-Length': '17736', 'Expires': 'Sun, 06 Feb 2022 04:58:23 GMT', 'Cache-Control': 'max-age=0, no-cache, no-store', 'Pragma': 'no-cache', 'Date': 'Sun, 06 Feb 2022 04:58:23 GMT', 'Connection': 'keep-alive', 'Vary': 'Accept-Encoding', 'Set-Cookie': 'country=pk; path=/, region=unknown; expires=Sun, 13-Feb-2022 04:58:23 GMT; path=/', 'strict-transport-security': 'max-age=15552000'}"
      ]
     },
     "execution_count": 4,
     "metadata": {},
     "output_type": "execute_result"
    }
   ],
   "source": [
    "web.headers\n",
    "\n"
   ]
  },
  {
   "cell_type": "markdown",
   "id": "829ec662",
   "metadata": {},
   "source": [
    "### here by using BS we parse the content"
   ]
  },
  {
   "cell_type": "code",
   "execution_count": 5,
   "id": "c373c5fe",
   "metadata": {},
   "outputs": [],
   "source": [
    "soup=bs(web.content,\"html.parser\")\n"
   ]
  },
  {
   "cell_type": "markdown",
   "id": "a746775c",
   "metadata": {},
   "source": [
    "### for getting correct formate use PRETTIFY"
   ]
  },
  {
   "cell_type": "code",
   "execution_count": 6,
   "id": "70753997",
   "metadata": {},
   "outputs": [],
   "source": [
    "#print(soup.prettify())"
   ]
  },
  {
   "cell_type": "markdown",
   "id": "51ddedcb",
   "metadata": {},
   "source": [
    "### find the table which i want to see by using FINDALL and give class from html"
   ]
  },
  {
   "cell_type": "code",
   "execution_count": 7,
   "id": "e6c7b2f7",
   "metadata": {},
   "outputs": [],
   "source": [
    "ranks=soup.find_all(\"table\" , class_=\"StoryengineTable\")\n",
    "get_heading=soup.find_all(\"div\",class_=\"ciPhotoContainer\")[0].find_all('h3')\n"
   ]
  },
  {
   "cell_type": "markdown",
   "id": "5915ea01",
   "metadata": {},
   "source": [
    "### now use loop for neat view of html code inside class given above"
   ]
  },
  {
   "cell_type": "code",
   "execution_count": 8,
   "id": "9c11e281",
   "metadata": {},
   "outputs": [],
   "source": [
    "# for elemnts in which_class:\n",
    "#     print(elemnts,end=\"\\n\"*2)"
   ]
  },
  {
   "cell_type": "code",
   "execution_count": 9,
   "id": "fc7e9300",
   "metadata": {},
   "outputs": [
    {
     "name": "stdout",
     "output_type": "stream",
     "text": [
      "ICC Test Rankings\n",
      "16 January 2022\n",
      "Pos                  Team                 Matches              Points               Rating               \n",
      "1                    Australia            23                   2736                 119                  \n",
      "2                    New Zealand          28                   3264                 117                  \n",
      "3                    India                32                   3717                 116                  \n",
      "4                    England              41                   4151                 101                  \n",
      "5                    South Africa         23                   2271                 99                   \n",
      "6                    Pakistan             30                   2787                 93                   \n",
      "7                    Sri Lanka            30                   2485                 83                   \n",
      "8                    West Indies          33                   2480                 75                   \n",
      "9                    Bangladesh           22                   1157                 53                   \n",
      "10                   Zimbabwe             11                   342                  31                   \n",
      "\n",
      "\n",
      "\n",
      "ICC ODI Rankings\n",
      "16 January 2022\n",
      "Pos                  Team                 Matches              Points               Rating               \n",
      "1                    New Zealand          17                   2054                 121                  \n",
      "2                    England              32                   3793                 119                  \n",
      "3                    Australia            28                   3244                 116                  \n",
      "4                    India                35                   3776                 108                  \n",
      "5                    South Africa         28                   2943                 105                  \n",
      "6                    Pakistan             27                   2524                 93                   \n",
      "7                    Bangladesh           30                   2740                 91                   \n",
      "8                    Sri Lanka            35                   2835                 81                   \n",
      "9                    West Indies          33                   2613                 79                   \n",
      "10                   Afghanistan          20                   1336                 67                   \n",
      "11                   Ireland              28                   1445                 52                   \n",
      "12                   Scotland             10                   452                  45                   \n",
      "13                   Zimbabwe             23                   951                  41                   \n",
      "14                   Netherlands          10                   378                  38                   \n",
      "15                   Oman                 17                   537                  32                   \n",
      "16                   Nepal                11                   330                  30                   \n",
      "17                   UAE                  10                   275                  28                   \n",
      "18                   Namibia              8                    167                  21                   \n",
      "19                   USA                  14                   232                  17                   \n",
      "20                   PNG                  13                   0                    0                    \n",
      "\n",
      "\n",
      "\n",
      "ICC Twenty20 Rankings\n",
      "16 January 2022\n",
      "Pos                  Team                 Matches              Points               Rating               \n",
      "1                    England              39                   10474                269                  \n",
      "2                    India                36                   9627                 267                  \n",
      "3                    Pakistan             46                   12225                266                  \n",
      "4                    New Zealand          38                   9707                 255                  \n",
      "5                    South Africa         35                   8858                 253                  \n",
      "6                    Australia            40                   9927                 248                  \n",
      "7                    West Indies          42                   9925                 236                  \n",
      "8                    Afghanistan          17                   3951                 232                  \n",
      "9                    Sri Lanka            30                   6950                 232                  \n",
      "10                   Bangladesh           37                   8529                 231                  \n",
      "11                   Zimbabwe             30                   5751                 192                  \n",
      "12                   Nepal                19                   3556                 187                  \n",
      "13                   Scotland             24                   4447                 185                  \n",
      "14                   UAE                  15                   2750                 183                  \n",
      "15                   Ireland              34                   6227                 183                  \n",
      "16                   Namibia              25                   4435                 177                  \n",
      "17                   Oman                 13                   2260                 174                  \n",
      "18                   Netherlands          23                   3992                 171                  \n",
      "19                   PNG                  19                   3166                 167                  \n",
      "20                   Singapore            12                   1678                 140                  \n",
      "21                   Qatar                15                   1917                 128                  \n",
      "22                   Canada               16                   1976                 124                  \n",
      "23                   Jersey               19                   2333                 123                  \n",
      "24                   Hong Kong            13                   1572                 121                  \n",
      "25                   Uganda               28                   2948                 105                  \n",
      "26                   Italy                12                   1245                 104                  \n",
      "27                   Kuwait               12                   1241                 103                  \n",
      "28                   USA                  16                   1644                 103                  \n",
      "29                   Saudi Arabia         8                    801                  100                  \n",
      "30                   Kenya                20                   1988                 99                   \n",
      "31                   Bermuda              12                   1056                 88                   \n",
      "32                   Malaysia             20                   1723                 86                   \n",
      "33                   Germany              23                   1972                 86                   \n",
      "34                   Bahrain              8                    675                  84                   \n",
      "35                   Tanzania             13                   1062                 82                   \n",
      "36                   Denmark              15                   1160                 77                   \n",
      "37                   Botswana             14                   1070                 76                   \n",
      "38                   Guernsey             9                    645                  72                   \n",
      "39                   Spain                11                   768                  70                   \n",
      "40                   Romania              17                   1163                 68                   \n",
      "41                   Norway               10                   667                  67                   \n",
      "42                   Nigeria              23                   1487                 65                   \n",
      "43                   Austria              13                   756                  58                   \n",
      "44                   Belgium              17                   955                  56                   \n",
      "45                   Sweden               10                   536                  54                   \n",
      "46                   Philippines          5                    241                  48                   \n",
      "47                   France               7                    333                  48                   \n",
      "48                   Mexico               7                    313                  45                   \n",
      "49                   Cayman Islands       3                    132                  44                   \n",
      "50                   Vanuatu              10                   435                  44                   \n",
      "51                   Portugal             9                    387                  43                   \n",
      "52                   Ghana                13                   541                  42                   \n",
      "53                   Isle of Man          8                    329                  41                   \n",
      "54                   Luxembourg           16                   613                  38                   \n",
      "55                   Argentina            11                   416                  38                   \n",
      "56                   Bahamas              6                    223                  37                   \n",
      "57                   Malawi               15                   556                  37                   \n",
      "58                   Peru                 5                    179                  36                   \n",
      "59                   Fiji                 3                    105                  35                   \n",
      "60                   Finland              9                    313                  35                   \n",
      "61                   Sierra Leone         10                   331                  33                   \n",
      "62                   Hungary              5                    165                  33                   \n",
      "63                   Samoa                5                    159                  32                   \n",
      "64                   Japan                4                    126                  32                   \n",
      "65                   Costa Rica           4                    126                  32                   \n",
      "66                   Belize               11                   341                  31                   \n",
      "67                   Malta                25                   766                  31                   \n",
      "68                   Panama               11                   287                  26                   \n",
      "69                   Thailand             7                    175                  25                   \n",
      "70                   Cyprus               9                    210                  23                   \n",
      "71                   Czech Republic       19                   396                  21                   \n",
      "72                   South Korea          4                    78                   20                   \n",
      "73                   Greece               5                    94                   19                   \n",
      "74                   Mozambique           13                   214                  16                   \n",
      "75                   Rwanda               14                   206                  15                   \n",
      "76                   Bhutan               4                    47                   12                   \n",
      "77                   Bulgaria             20                   221                  11                   \n",
      "78                   St Helena            6                    55                   9                    \n",
      "79                   Seychelles           6                    54                   9                    \n",
      "80                   Brazil               5                    39                   8                    \n",
      "81                   Maldives             11                   55                   5                    \n",
      "82                   Gibraltar            14                   55                   4                    \n",
      "83                   Chile                5                    19                   4                    \n",
      "84                   Myanmar              3                    1                    0                    \n",
      "85                   Eswatini             9                    0                    0                    \n",
      "86                   Lesotho              9                    0                    0                    \n",
      "87                   China                4                    0                    0                    \n",
      "88                   Turkey               3                    0                    0                    \n",
      "89                   Serbia               5                    0                    0                    \n",
      "90                   Indonesia            3                    0                    0                    \n",
      "91                   Estonia              6                    0                    0                    \n",
      "\n",
      "\n",
      "\n",
      "ICC Women's ODI Team Rankings\n",
      "16 January 2022\n",
      "Pos                  Team                 Matches              Points               Rating               \n",
      "1                    Australia Women      18                   2918                 162                  \n",
      "2                    England Women        19                   2257                 119                  \n",
      "3                    South Africa Women   21                   2489                 119                  \n",
      "4                    India Women          17                   1899                 112                  \n",
      "5                    Bangladesh Women     5                    475                  95                   \n",
      "6                    West Indies Women    22                   2016                 92                   \n",
      "7                    New Zealand Women    19                   1668                 88                   \n",
      "8                    Pakistan Women       18                   1226                 68                   \n",
      "9                    Ireland Women        5                    240                  48                   \n",
      "10                   Sri Lanka Women      5                    233                  47                   \n",
      "11                   Zimbabwe Women       7                    0                    0                    \n",
      "\n",
      "\n",
      "\n",
      "ICC Women's T20 Team Rankings\n",
      "16 January 2022\n",
      "Pos                  Team                 Matches              Points               Rating               \n",
      "1                    Australia Women      21                   6160                 293                  \n",
      "2                    England Women        26                   7398                 285                  \n",
      "3                    India Women          23                   6081                 264                  \n",
      "4                    New Zealand Women    17                   4487                 264                  \n",
      "5                    South Africa Women   20                   5030                 252                  \n",
      "6                    West Indies Women    19                   4691                 247                  \n",
      "7                    Pakistan Women       18                   4027                 224                  \n",
      "8                    Sri Lanka Women      12                   2476                 206                  \n",
      "9                    Bangladesh Women     15                   2850                 190                  \n",
      "10                   Thailand Women       17                   2851                 168                  \n",
      "11                   Zimbabwe Women       17                   2730                 161                  \n",
      "12                   Ireland Women        20                   3209                 160                  \n",
      "13                   Scotland Women       20                   3036                 152                  \n",
      "14                   PNG Women            9                    1174                 130                  \n",
      "15                   Nepal Women          15                   1926                 128                  \n",
      "16                   UAE Women            11                   1412                 128                  \n",
      "17                   Samoa Women          6                    749                  125                  \n",
      "18                   Tanzania Women       12                   1340                 112                  \n",
      "19                   Uganda Women         13                   1350                 104                  \n",
      "20                   Netherlands Women    15                   1396                 93                   \n",
      "21                   Namibia Women        22                   1911                 87                   \n",
      "22                   Indonesia Women      9                    761                  85                   \n",
      "23                   Hong Kong Women      13                   1013                 78                   \n",
      "24                   Kenya Women          16                   1225                 77                   \n",
      "25                   Germany Women        16                   1112                 70                   \n",
      "26                   China Women          8                    538                  67                   \n",
      "27                   USA Women            10                   623                  62                   \n",
      "28                   Brazil Women         9                    524                  58                   \n",
      "29                   Vanuatu Women        6                    324                  54                   \n",
      "30                   Japan Women          5                    260                  52                   \n",
      "31                   Malaysia Women       16                   811                  51                   \n",
      "32                   Rwanda Women         21                   1025                 49                   \n",
      "33                   Belize Women         3                    135                  45                   \n",
      "34                   Myanmar Women        5                    212                  42                   \n",
      "35                   Jersey Women         4                    160                  40                   \n",
      "36                   Canada Women         8                    277                  35                   \n",
      "37                   Nigeria Women        17                   514                  30                   \n",
      "38                   France Women         12                   315                  26                   \n",
      "39                   Oman Women           5                    129                  26                   \n",
      "40                   Botswana Women       14                   317                  23                   \n",
      "41                   Austria Women        14                   316                  23                   \n",
      "42                   Bhutan Women         7                    152                  22                   \n",
      "43                   Sierra Leone Women   6                    126                  21                   \n",
      "44                   Kuwait Women         11                   206                  19                   \n",
      "45                   South Korea Women    4                    73                   18                   \n",
      "46                   Malawi Women         4                    71                   18                   \n",
      "47                   Mexico Women         3                    42                   14                   \n",
      "48                   Costa Rica           4                    34                   9                    \n",
      "49                   Mozambique Women     11                   31                   3                    \n",
      "50                   Qatar Women          5                    14                   3                    \n",
      "51                   Fiji Women           6                    0                    0                    \n",
      "52                   Argentina Women      9                    0                    0                    \n",
      "53                   Norway Women         4                    0                    0                    \n",
      "54                   Mali Women           3                    0                    0                    \n",
      "\n",
      "\n",
      "\n"
     ]
    }
   ],
   "source": [
    "for i,e in enumerate(ranks):\n",
    "    print(get_heading[i].text)\n",
    "    print(ranks[0].caption.text)  \n",
    "    tr = e.find_all('tr')\n",
    "    i=0\n",
    "    for t in tr:\n",
    "        if(i==0):\n",
    "            search=\"th\"\n",
    "        else:\n",
    "            search=\"td\"\n",
    "            \n",
    "        for c in t.findChildren(search):\n",
    "            print('{:20}'.format(c.text), end=\" \")                \n",
    "        print()\n",
    "        i+=1\n",
    "    print(\"\\n\\n\")\n",
    "    "
   ]
  },
  {
   "cell_type": "code",
   "execution_count": null,
   "id": "411a5fb3",
   "metadata": {},
   "outputs": [],
   "source": []
  }
 ],
 "metadata": {
  "kernelspec": {
   "display_name": "Python 3 (ipykernel)",
   "language": "python",
   "name": "python3"
  },
  "language_info": {
   "codemirror_mode": {
    "name": "ipython",
    "version": 3
   },
   "file_extension": ".py",
   "mimetype": "text/x-python",
   "name": "python",
   "nbconvert_exporter": "python",
   "pygments_lexer": "ipython3",
   "version": "3.10.0"
  }
 },
 "nbformat": 4,
 "nbformat_minor": 5
}
